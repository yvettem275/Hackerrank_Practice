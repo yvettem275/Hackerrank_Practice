{
 "cells": [
  {
   "cell_type": "code",
   "execution_count": 62,
   "id": "a7479ac3",
   "metadata": {},
   "outputs": [],
   "source": [
    "def countingValleys(steps, path):\n",
    "    # Write your code here\n",
    "    level=valley=0\n",
    "    for i in range(steps):\n",
    "        #print(path[i])\n",
    "        if(path[i]=='U'):\n",
    "            level+=1\n",
    "            if(level==0):\n",
    "                valley+=1\n",
    "        else:\n",
    "            level-=1\n",
    "\n",
    "    return valley\n",
    "    \n",
    "   \n",
    "    "
   ]
  },
  {
   "cell_type": "code",
   "execution_count": 68,
   "id": "aa9fdfd2",
   "metadata": {},
   "outputs": [
    {
     "name": "stdout",
     "output_type": "stream",
     "text": [
      "2\n"
     ]
    }
   ],
   "source": [
    "#print number of valley\n",
    "steps=8\n",
    "path=['U','D','D','U','U','D','D','U']\n",
    "#res = countingValleys(steps, path)\n",
    "print(countingValleys(steps, path))"
   ]
  },
  {
   "cell_type": "code",
   "execution_count": null,
   "id": "1b71f125",
   "metadata": {},
   "outputs": [],
   "source": [
    "# def countingValleys(steps, path):\n",
    "#     count  = 0\n",
    "#     valeys = 0\n",
    "#     for step in range (steps):\n",
    "#         if (path[step] == 'D'):\n",
    "#             print('Valey Step -> Down ')\n",
    "#             count -= 1\n",
    "#             if count == -1:\n",
    "#                 valeys += 1\n",
    "            \n",
    "#         else:\n",
    "#             print('Mountain Step -> Up')\n",
    "#             count += 1\n",
    "    \n",
    "#     return valeys\n"
   ]
  }
 ],
 "metadata": {
  "kernelspec": {
   "display_name": "Python 3",
   "language": "python",
   "name": "python3"
  },
  "language_info": {
   "codemirror_mode": {
    "name": "ipython",
    "version": 3
   },
   "file_extension": ".py",
   "mimetype": "text/x-python",
   "name": "python",
   "nbconvert_exporter": "python",
   "pygments_lexer": "ipython3",
   "version": "3.8.8"
  }
 },
 "nbformat": 4,
 "nbformat_minor": 5
}
