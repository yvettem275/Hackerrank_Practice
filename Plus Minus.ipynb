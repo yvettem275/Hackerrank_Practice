{
 "cells": [
  {
   "cell_type": "code",
   "execution_count": 56,
   "id": "8c4449ee",
   "metadata": {},
   "outputs": [],
   "source": [
    "def plusMinus(arr):\n",
    "    pos_count, neg_count,zero_count = 0, 0, 0\n",
    "    n = len(arr)\n",
    "    \n",
    "    for x in arr:\n",
    "        if x>0:\n",
    "            pos_count += 1\n",
    "        elif x<0:\n",
    "            neg_count += 1\n",
    "        else:\n",
    "            zero_count+=1\n",
    "    \n",
    "    print(\"{:.6f}\".format(pos_count/n))\n",
    "    print(\"{:.6f}\".format(neg_count/n))\n",
    "    print(\"{:.6f}\".format(zero_count/n))\n",
    "\n",
    "               \n",
    "                "
   ]
  },
  {
   "cell_type": "code",
   "execution_count": 57,
   "id": "44bdab0b",
   "metadata": {},
   "outputs": [
    {
     "name": "stdout",
     "output_type": "stream",
     "text": [
      "0.400000\n",
      "0.400000\n",
      "0.200000\n"
     ]
    }
   ],
   "source": [
    "arr = [1,1,0,-1,-1]\n",
    "plusMinus(arr)"
   ]
  },
  {
   "cell_type": "code",
   "execution_count": null,
   "id": "e3973adf",
   "metadata": {},
   "outputs": [],
   "source": []
  },
  {
   "cell_type": "code",
   "execution_count": null,
   "id": "08ee88e4",
   "metadata": {},
   "outputs": [],
   "source": []
  }
 ],
 "metadata": {
  "kernelspec": {
   "display_name": "Python 3",
   "language": "python",
   "name": "python3"
  },
  "language_info": {
   "codemirror_mode": {
    "name": "ipython",
    "version": 3
   },
   "file_extension": ".py",
   "mimetype": "text/x-python",
   "name": "python",
   "nbconvert_exporter": "python",
   "pygments_lexer": "ipython3",
   "version": "3.8.8"
  }
 },
 "nbformat": 4,
 "nbformat_minor": 5
}
